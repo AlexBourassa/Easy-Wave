{
 "cells": [
  {
   "cell_type": "code",
   "execution_count": null,
   "metadata": {},
   "outputs": [],
   "source": [
    "# This is only to fix autocomplete in my version of Jupyter notebook.  Disregard if you don't have this problem\n",
    "%config Completer.use_jedi = False\n",
    "\n",
    "# This is to allow the use pyqtgraph for plots\n",
    "%gui qt\n",
    "\n",
    "import qutip\n",
    "from VV0_params import PL1,PL2\n",
    "import numpy as np\n",
    "import pyqtgraph as pg\n",
    "from easy_wave import *\n",
    "from wave_library import IQ_MW_Pulse,Rect, Empty, Zero\n",
    "from wave_sim import *\n"
   ]
  },
  {
   "cell_type": "markdown",
   "metadata": {},
   "source": [
    "# Qutip Simulation from Waveform\n",
    "\n",
    "WARNING: Simulation is still experimental.  Doing it with the Simple_Sim object should work, but it can be slow"
   ]
  },
  {
   "cell_type": "code",
   "execution_count": null,
   "metadata": {},
   "outputs": [],
   "source": [
    "# First let's give names to our channels\n",
    "chs = {\n",
    "    'sg1_i'  : Channel.ch1_a,\n",
    "    'sg1_g'  : Channel.ch1_m1,\n",
    "    \n",
    "    'sg1_q'  : Channel.ch2_a,\n",
    "}\n",
    "sg1_chs = [chs[x] for x in ['sg1_i','sg1_q', 'sg1_g']]\n",
    "\n",
    "# Creating some basic pulses\n",
    "mw = IQ_MW_Pulse(300e-9, *sg1_chs, freq_shift=0)\n",
    "delay = Zero(t=1e-6, ch=chs['sg1_g'])\n",
    "\n",
    "#Create the sequence\n",
    "wave = mw + delay + mw + delay + mw + delay + mw\n",
    "wave &= Rect(t=wave.t, ch = Channel.ch2_m1)\n",
    "\n",
    "Bz_val = 10\n",
    "gamma_e=2.8e6\n",
    "f_plus = PL2['D']#+Bz_val*gamma_e"
   ]
  },
  {
   "cell_type": "code",
   "execution_count": null,
   "metadata": {},
   "outputs": [],
   "source": [
    "%%time\n",
    "options = qutip.solver.Options(max_step=0.1e-9)\n",
    "\n",
    "Bx = SG_IQ(f_plus, chs['sg1_i'], chs['sg1_q'], wave, experiment_rate=1e9, axis='x')\n",
    "Bz = Static(val=Bz_val)\n",
    "H = Single_VV0_Spin(PL2['D'])\n",
    "H.add_signal(Bx)\n",
    "# H.add_signal(Bz)\n",
    "\n",
    "sim = Simple_Sim(H, Bx.exp_ts, options=options)\n",
    "\n",
    "plt = sim.plot(Bx.exp_ts)\n",
    "H.plot_signal('Bx', Bx.exp_ts)#, plt=plt)"
   ]
  },
  {
   "cell_type": "code",
   "execution_count": null,
   "metadata": {},
   "outputs": [],
   "source": [
    "sim.plot(Bx.exp_ts, method='real')"
   ]
  },
  {
   "cell_type": "code",
   "execution_count": null,
   "metadata": {},
   "outputs": [],
   "source": [
    "# Not working\n",
    "class Simple_Sim():\n",
    "    def __init__(self, H, ts, psi0=qutip.basis(3,1), options=qutip.solver.Options(), force_recompute=False):\n",
    "        self.H = H\n",
    "#         print(H.signals)\n",
    "#         print(H.get_qutip_descriptor(time_offset=min(ts)))\n",
    "        if H.is_constant() or H.T is None:\n",
    "            print(\"simulating using sesolve\")\n",
    "            self.output = qutip.sesolve(H.get_qutip_descriptor(time_offset=min(ts)), psi0, ts-min(ts), options=options)\n",
    "        else:\n",
    "            #Periodic hamiltonian, use Floquet Formalism\n",
    "            print(\"simulating using fsesolve\")\n",
    "            self.output = qutip.fsesolve(H.get_qutip_descriptor(time_offset=min(ts)), psi0, ts-min(ts), e_ops=[], T=H.T, args={})\n",
    "\n",
    "    def plot(self, ts, method='abs', plt=None):\n",
    "        states = np.array([s.full() for s in self.output.states])[:,:,0]\n",
    "        if method == 'abs':\n",
    "            states = np.abs(states)**2\n",
    "        elif method == 'real':\n",
    "            states = np.real(states)\n",
    "        elif method == 'imag':\n",
    "            states = np.imag(states)\n",
    "\n",
    "        cs = ['b', 'g', 'r', 'c', 'y', 'w','m']\n",
    "        if plt is None:\n",
    "            plt = pg.plot()\n",
    "        if not self.H.labels is None:\n",
    "            plt.addLegend()\n",
    "            for i, ys in enumerate(states.T):\n",
    "                plt.plot(ts, ys, pen=cs[i%len(cs)], name=self.H.labels[i])\n",
    "        else:\n",
    "            for i, ys in enumerate(states.T):\n",
    "                plt.plot(ts, ys, pen=cs[i%len(cs)])\n",
    "        return plt\n",
    "\n",
    "\n",
    "class Sequencer(object):\n",
    "    def __init__(self, wave, relevent_chs):\n",
    "        self.seq = self.serialize(wave, relevent_chs)\n",
    "        self.compress_zeros()\n",
    "        self.re_id_zeros()\n",
    "\n",
    "    def serialize(self, wave, relevent_chs):\n",
    "        if not wave.PULSE_TYPE is None:\n",
    "            return [wave]\n",
    "\n",
    "        if type(wave) == AND_Waveform:\n",
    "            is_relevent = [any([ch in sub_wave.chs for ch in relevent_chs])for sub_wave in wave.wave_list]\n",
    "            no_relevent_waves = sum(is_relevent)\n",
    "            if no_relevent_waves == 0:\n",
    "                return []\n",
    "            elif no_relevent_waves == 1:\n",
    "                relevent_wave = wave.wave_list[is_relevent.index(True)]\n",
    "                return self.serialize(relevent_wave, relevent_chs=relevent_chs)\n",
    "            else:\n",
    "                return [wave]\n",
    "\n",
    "        elif type(wave) == Waveform:\n",
    "            out_list = []\n",
    "            is_relevent = [any([ch in sub_wave.chs for ch in relevent_chs])for sub_wave in wave.wave_list]\n",
    "            for i, sub_wave in enumerate(wave.wave_list):\n",
    "                if not is_relevent[i]:\n",
    "                    out_list.append(wave_lib.Zero(t=sub_wave.t, ch=Channel.no_ch))\n",
    "                else:\n",
    "                    out_list.extend(self.serialize(sub_wave, relevent_chs=relevent_chs))\n",
    "            return out_list\n",
    "\n",
    "        elif issubclass(type(wave), Core_Pulse):\n",
    "            print(\"Warning: Using a Core Pulse with no PULSE_TYPE definition.  Could be inefficient\")\n",
    "            return [wave]\n",
    "\n",
    "        else:\n",
    "            raise Exception(\"Received a {}\".format(type(wave)))\n",
    "        \n",
    "    def compress_zeros(self):\n",
    "        out = list()\n",
    "        zero_t = 0\n",
    "        for wave in self.seq:\n",
    "            if type(wave) == wave_lib.Zero:\n",
    "                zero_t += wave.t\n",
    "            else:\n",
    "                if zero_t:\n",
    "                    out.append(wave_lib.Zero(t=zero_t, ch=Channel.no_ch))\n",
    "                    zero_t = 0\n",
    "                out.append(wave)\n",
    "        if zero_t:\n",
    "            out.append(wave_lib.Zero(t=zero_t, ch=Channel.no_ch))\n",
    "        self.seq = out\n",
    "\n",
    "    def re_id_zeros(self):\n",
    "        zeros_dict = {}\n",
    "        for i, wave in enumerate(self.seq):\n",
    "            if type(wave) is wave_lib.Zero:\n",
    "                if wave.t in zeros_dict:\n",
    "                    self.seq[i] = zeros_dict[wave.t]\n",
    "                else:\n",
    "                    zeros_dict[wave.t] = wave\n",
    "\n",
    "class Smart_Sim():\n",
    "    def __init__(self, H_class, H_args=[], sim_chs=[], H_kwargs={}, options=qutip.solver.Options()):\n",
    "        self.H_class, self.H_args, self.sim_chs, self.H_kwargs, self.options = H_class, H_args, sim_chs, H_kwargs, options\n",
    "        self.propagators = dict()\n",
    "    \n",
    "    def run(self, wave, experimental_rate, sim_rate=None, psi0=qutip.basis(3,1), reuse_propagators=True, verbose=False):\n",
    "        sim_rate = experimental_rate if sim_rate is None else sim_rate\n",
    "        relevent_chs = set().union(*[sim_ch.chs for sim_ch in self.sim_chs])\n",
    "        sim_seq = Sequencer(wave, relevent_chs=relevent_chs)\n",
    "        \n",
    "        psi = psi0\n",
    "        self.states = list()\n",
    "        self.sims = list()\n",
    "        self.ts = np.array([])\n",
    "        next_time = 0\n",
    "        \n",
    "        #Build Hamiltonian seq\n",
    "        Hs = dict()\n",
    "        for sim_chunk in sim_seq.seq:\n",
    "            H = self.H_class(*self.H_args, **self.H_kwargs)\n",
    "            for sim_ch in self.sim_chs:\n",
    "                #If the sim_ch as some of the same channels as the chunk\n",
    "                if len(sim_ch.chs.intersection(sim_chunk.chs)):\n",
    "                    for signal in sim_ch.get_signals(sim_chunk, experiment_rate=experimental_rate):\n",
    "                        if H.has_interaction(signal.get_interaction_label()):\n",
    "                            H.add_signal(signal)\n",
    "            Hs[sim_chunk] = H\n",
    "            \n",
    "        #Reset the propagator dict if necessary\n",
    "        if not reuse_propagators:\n",
    "            self.propagators = dict()\n",
    "            \n",
    "        # Perform the simulation\n",
    "        for sim_chunk in sim_seq.seq:\n",
    "            sim_start_time = time.time()\n",
    "            \n",
    "            ts = np.linspace(0, sim_chunk.t, int(sim_chunk.t*sim_rate), endpoint=False) + next_time\n",
    "            \n",
    "            # For constant wave use the propagator method\n",
    "            if Hs[sim_chunk].is_constant():\n",
    "                if sim_chunk in self.propagators:\n",
    "                    U_t = self.propagators[sim_chunk]\n",
    "                    print(\"Reusing U_t\")\n",
    "                else:\n",
    "                    H = Hs[sim_chunk].get_qutip_descriptor(time_offset=next_time)\n",
    "                    U_t = qutip.propagator(H, ts, c_op_list=[], options=self.options)\n",
    "                    if reuse_propagators:\n",
    "                        self.propagators[sim_chunk] = U_t\n",
    "                        print(\"Saved U_t\")\n",
    "                states = U_t*psi\n",
    "            else:\n",
    "                sim = Simple_Sim(Hs[sim_chunk], ts, psi0=psi, options=self.options)\n",
    "                states = sim.output.states\n",
    "            \n",
    "            # Update some variables\n",
    "            self.states.extend(states)\n",
    "            psi = states[-1]\n",
    "            self.ts = np.concatenate([self.ts, ts])\n",
    "            next_time += sim_chunk.t\n",
    "            \n",
    "            if verbose:\n",
    "                print(\"Simulation of <{}> took {:.4f} s\".format(str(sim_chunk), time.time()-sim_start_time))\n",
    "        return Hs\n",
    "            \n",
    "    \n",
    "    def plot(self,plt=None, method='abs'):\n",
    "        states = np.array([s.full() for s in self.states])[:,:,0]\n",
    "        if method == 'abs':\n",
    "            states = np.abs(states)**2\n",
    "        elif method == 'real':\n",
    "            states = np.real(states)\n",
    "        elif method == 'imag':\n",
    "            states = np.imag(states)\n",
    "\n",
    "        cs = ['b', 'g', 'r', 'c', 'y', 'w','m']\n",
    "        H = self.H_class(*self.H_args, **self.H_kwargs)\n",
    "        if plt is None:\n",
    "            plt = pg.plot()\n",
    "        if not H.labels is None:\n",
    "            plt.addLegend()\n",
    "            for i, ys in enumerate(states.T):\n",
    "                plt.plot(self.ts, ys, pen=cs[i%len(cs)], name=H.labels[i])\n",
    "        else:\n",
    "            for i, ys in enumerate(states.T):\n",
    "                plt.plot(self.ts, ys, pen=cs[i%len(cs)])\n",
    "        return plt"
   ]
  },
  {
   "cell_type": "code",
   "execution_count": null,
   "metadata": {},
   "outputs": [],
   "source": [
    "%%time\n",
    "#Not Working\n",
    "options = qutip.solver.Options()#, max_step=0.1e-9)\n",
    "iq = Sim_Chs.SG_IQ(f_plus, chs['sg1_i'], chs['sg1_q'])\n",
    "ssim = Smart_Sim(Single_VV0_Spin, H_args=[PL2['D']], sim_chs=[iq], options=options)\n",
    "Hs = ssim.run(wave, 10e9, reuse_propagators=True, verbose=True)\n",
    "ssim.plot()#method='real')"
   ]
  },
  {
   "cell_type": "code",
   "execution_count": null,
   "metadata": {},
   "outputs": [],
   "source": [
    "a = list(Hs.items())\n",
    "a"
   ]
  },
  {
   "cell_type": "code",
   "execution_count": null,
   "metadata": {},
   "outputs": [],
   "source": [
    "H = a[0][1]\n",
    "sim_chunk = a[0][0]\n",
    "arr = np.array(H.signals['Bx'][0].test_ts)"
   ]
  },
  {
   "cell_type": "code",
   "execution_count": null,
   "metadata": {},
   "outputs": [],
   "source": [
    "arr[::1000]"
   ]
  },
  {
   "cell_type": "code",
   "execution_count": null,
   "metadata": {},
   "outputs": [],
   "source": [
    "ts = np.linspace(0, sim_chunk.t, int(sim_chunk.t*1e9), endpoint=False) + 1e-6\n",
    "sim = Simple_Sim(H, ts, psi0=psi, options=options)\n",
    "sim.plot(ts)"
   ]
  },
  {
   "cell_type": "markdown",
   "metadata": {},
   "source": [
    "# Playing with Qutip functions\n",
    "\n",
    "The cells bellow are simply reminders of some usefull Qutip functions and how to use them.  Everything you need to know about the specific easy_wave implemention is already above"
   ]
  },
  {
   "cell_type": "markdown",
   "metadata": {},
   "source": [
    "### Building an example problem"
   ]
  },
  {
   "cell_type": "code",
   "execution_count": null,
   "metadata": {},
   "outputs": [],
   "source": [
    "def vv0_H(defect=PL2, B=[0,0,0]):\n",
    "    #Construct the usual spin matrices\n",
    "    Si = Sx,Sy,Sz = qutip.jmat(1)\n",
    "    \n",
    "    #Construct the Hamiltonian\n",
    "    H0 = (2*np.pi)*defect['D']*Sz*Sz #Zero-Field splitting\n",
    "    H = [H0]\n",
    "    \n",
    "    #Zeeman-Splitting\n",
    "    for i, Bi in enumerate(B):\n",
    "        if Bi:\n",
    "            H.append([(2*np.pi)*defect['gamma_e']*Si[i], Bi])\n",
    "    \n",
    "    return H\n",
    "\n",
    "psi0 = qutip.basis(3,1)\n",
    "Bz = 0\n",
    "w = (PL2['D']+Bz*PL2['gamma_e'])*2*np.pi\n",
    "T = (2*np.pi)/w\n",
    "H = vv0_H(B=[lambda t, args: np.sin(w*t),0,lambda t, args: Bz])"
   ]
  },
  {
   "cell_type": "code",
   "execution_count": null,
   "metadata": {},
   "outputs": [],
   "source": [
    "# Defining a plotting function\n",
    "def plot(output):\n",
    "    states = np.array([s.full() for s in output.states])[:,:,0]\n",
    "    states = np.abs(states)**2\n",
    "\n",
    "    labels = ['+1', ' 0', '-1']\n",
    "    colors = ['b', 'g', 'r', 'c', 'y', 'w','m', 'b', 'g', 'r', 'c', 'm', 'y', 'w']\n",
    "    plt = pg.plot()\n",
    "    plt.addLegend()\n",
    "    for i, ys in enumerate(states.T):\n",
    "        plt.plot(ts, ys, pen=colors[i], name=labels[i])\n",
    "    return plt"
   ]
  },
  {
   "cell_type": "markdown",
   "metadata": {},
   "source": [
    "### Solving using Master Equation"
   ]
  },
  {
   "cell_type": "code",
   "execution_count": null,
   "metadata": {},
   "outputs": [],
   "source": [
    "%%time\n",
    "#For time independent hamiltonian\n",
    "plus = (1/np.sqrt(2))*(qutip.basis(3,0) + qutip.basis(3,1))\n",
    "\n",
    "# This is super quick!\n",
    "ts = np.linspace(0,10e-6,1000)\n",
    "Sx,Sy,Sz = qutip.jmat(1)\n",
    "H0 = [H[0]]\n",
    "output = qutip.sesolve(H0, psi0, ts)\n"
   ]
  },
  {
   "cell_type": "code",
   "execution_count": null,
   "metadata": {},
   "outputs": [],
   "source": [
    "%%time\n",
    "# For 10us 600 points an lower is too little, so we do 700 points\n",
    "ts = np.linspace(0,10e-6,700)\n",
    "\n",
    "# This will take about 10sec to simulate\n",
    "output = qutip.sesolve(H, psi0, ts)"
   ]
  },
  {
   "cell_type": "code",
   "execution_count": null,
   "metadata": {},
   "outputs": [],
   "source": [
    "plot(output)"
   ]
  },
  {
   "cell_type": "markdown",
   "metadata": {},
   "source": [
    "### Qutip Simulation using Floquet Formalism\n",
    "\n",
    "Here we'll attempt to follow http://qutip.org/docs/4.1/guide/dynamics/dynamics-floquet.html to apply Floquet formalism to an isolated spin"
   ]
  },
  {
   "cell_type": "code",
   "execution_count": null,
   "metadata": {},
   "outputs": [],
   "source": [
    "%%time\n",
    "Si = Sx,Sy,Sz = qutip.jmat(1)\n",
    "Ts = np.linspace(0, T, 500 + 1)\n",
    "ts = np.linspace(0,1e-6,10)\n",
    "\n",
    "# Find the floquet modes and energies\n",
    "f_modes_0, f_energies = qutip.floquet_modes(H,2*np.pi/w, args={})\n",
    "\n",
    "# Precompute the mode table\n",
    "f_modes_table_t = qutip.floquet_modes_table(f_modes_0, f_energies, ts , H, T, args={})"
   ]
  },
  {
   "cell_type": "code",
   "execution_count": null,
   "metadata": {},
   "outputs": [],
   "source": [
    "%%time\n",
    "# Here we can use as few points as we want\n",
    "# Eg. start and finish times only\n",
    "# ts = [0, 10e-6]\n",
    "# Or we can also do the full time but with less point then before\n",
    "ts = np.linspace(0,10e-6,100)\n",
    "\n",
    "# Solve the floquet-markov master euqation\n",
    "# This will only take ~250ms\n",
    "output = qutip.fsesolve(H, psi0, ts, e_ops=[], T=T, args={})"
   ]
  },
  {
   "cell_type": "code",
   "execution_count": null,
   "metadata": {},
   "outputs": [],
   "source": [
    "plot(output)"
   ]
  },
  {
   "cell_type": "markdown",
   "metadata": {},
   "source": [
    "### Qutip Propagator Method\n",
    "\n",
    "Finally, this is what I had been looking for!\n",
    "\n",
    "Actually because of the phases of the pulse this is a little tricky...  Not working right now..."
   ]
  },
  {
   "cell_type": "code",
   "execution_count": null,
   "metadata": {},
   "outputs": [],
   "source": [
    "%%time\n",
    "Sx,Sy,Sz = qutip.jmat(1)\n",
    "H0 = (2*np.pi)*PL2['D']*Sz*Sz\n",
    "Hx = (2*np.pi)*PL2['gamma_e']*Sx\n",
    "w = PL2['D']*2*np.pi\n",
    "H =[H0, [Hx, lambda t, args: 10*np.sin(w*t)]]\n",
    "\n",
    "ts = np.linspace(0,1e-8,1000)\n",
    "\n",
    "U_t = qutip.propagator(H, ts, c_op_list=[])\n",
    "U0_t = qutip.propagator(H0, ts, c_op_list=[])"
   ]
  },
  {
   "cell_type": "code",
   "execution_count": null,
   "metadata": {},
   "outputs": [],
   "source": [
    "%%time\n",
    "psi = psi0\n",
    "states = np.array([])\n",
    "ts_arr = np.array([])\n",
    "B_arr = np.array([])\n",
    "next_time = 0\n",
    "for i in range(25):\n",
    "    if i%2:\n",
    "#         mod_U_t = U_t*np.exp(-1j*Sx)\n",
    "#         _states = U_t*(np.exp(-(next_time*w)*1j)*Sx*psi)\n",
    "        _states = U_t*psi\n",
    "        B_arr = np.concatenate([B_arr, np.sin(w*ts)])\n",
    "    else:\n",
    "        _states = (U0_t*psi)\n",
    "        B_arr = np.concatenate([B_arr, np.zeros(len(ts))])\n",
    "    \n",
    "    states = np.concatenate([states, _states])\n",
    "    ts_arr = np.concatenate([ts_arr, ts + next_time])\n",
    "    psi = _states[-1]\n",
    "    next_time = ts_arr[-1]"
   ]
  },
  {
   "cell_type": "code",
   "execution_count": null,
   "metadata": {},
   "outputs": [],
   "source": [
    "# Defining a plotting function\n",
    "def plot(states):\n",
    "    states = np.array([s.full() for s in states])[:,:,0]\n",
    "    states = np.abs(states)**2\n",
    "    labels = ['+1', ' 0', '-1']\n",
    "    colors = ['b', 'g', 'r', 'c', 'y', 'w','m', 'b', 'g', 'r', 'c', 'm', 'y', 'w']\n",
    "    plt = pg.plot()\n",
    "    plt.addLegend()\n",
    "    for i, ys in enumerate(states.T):\n",
    "        plt.plot(ts_arr, ys, pen=colors[i], name=labels[i])\n",
    "    return plt\n",
    "ts = np.linspace(0,10e-6,1000)\n",
    "plt = plot(states)\n",
    "# plt.plot(ts_arr, B_arr)"
   ]
  },
  {
   "cell_type": "code",
   "execution_count": null,
   "metadata": {},
   "outputs": [],
   "source": [
    "len(ts_arr)"
   ]
  },
  {
   "cell_type": "code",
   "execution_count": null,
   "metadata": {},
   "outputs": [],
   "source": []
  }
 ],
 "metadata": {
  "kernelspec": {
   "display_name": "Python 3",
   "language": "python",
   "name": "python3"
  },
  "language_info": {
   "codemirror_mode": {
    "name": "ipython",
    "version": 3
   },
   "file_extension": ".py",
   "mimetype": "text/x-python",
   "name": "python",
   "nbconvert_exporter": "python",
   "pygments_lexer": "ipython3",
   "version": "3.6.8"
  }
 },
 "nbformat": 4,
 "nbformat_minor": 4
}
