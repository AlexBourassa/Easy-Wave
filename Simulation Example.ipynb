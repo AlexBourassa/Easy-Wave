{
 "cells": [
  {
   "cell_type": "markdown",
   "metadata": {},
   "source": [
    "# !!! Not Working yet!!!"
   ]
  },
  {
   "cell_type": "code",
   "execution_count": null,
   "metadata": {},
   "outputs": [],
   "source": [
    "# This is only to fix autocomplete in my version of Jupyter notebook.  Disregard if you don't have this problem\n",
    "%config Completer.use_jedi = False\n",
    "\n",
    "# This is to allow the use pyqtgraph for plots\n",
    "%gui qt"
   ]
  },
  {
   "cell_type": "markdown",
   "metadata": {},
   "source": [
    "# Building an example problem"
   ]
  },
  {
   "cell_type": "code",
   "execution_count": null,
   "metadata": {},
   "outputs": [],
   "source": [
    "import qutip\n",
    "from VV0_params import PL1,PL2\n",
    "import numpy as np\n",
    "import pyqtgraph as pg\n",
    "\n",
    "def vv0_H(defect=PL2, B=[0,0,0]):\n",
    "    #Construct the usual spin matrices\n",
    "    Si = Sx,Sy,Sz = qutip.jmat(1)\n",
    "    \n",
    "    #Construct the Hamiltonian\n",
    "    H0 = (2*np.pi)*defect['D']*Sz*Sz #Zero-Field splitting\n",
    "    H = [H0]\n",
    "    \n",
    "    #Zeeman-Splitting\n",
    "    for i, Bi in enumerate(B):\n",
    "        if Bi:\n",
    "            H.append([(2*np.pi)*defect['gamma_e']*Si[i], Bi])\n",
    "    \n",
    "    return H\n",
    "\n",
    "psi0 = qutip.basis(3,1)\n",
    "Bz = 0\n",
    "w = (PL2['D']+Bz*PL2['gamma_e'])*2*np.pi\n",
    "H = vv0_H(B=[lambda t, args: np.sin(w*t),0,lambda t, args: Bz])"
   ]
  },
  {
   "cell_type": "code",
   "execution_count": null,
   "metadata": {},
   "outputs": [],
   "source": [
    "# Defining a plotting function\n",
    "def plot(output):\n",
    "    states = np.array([s.full() for s in output.states])[:,:,0]\n",
    "    states = np.abs(states)**2\n",
    "\n",
    "    labels = ['+1', ' 0', '-1']\n",
    "    colors = ['b', 'g', 'r', 'c', 'y', 'w','m', 'b', 'g', 'r', 'c', 'm', 'y', 'w']\n",
    "    plt = pg.plot()\n",
    "    plt.addLegend()\n",
    "    for i, ys in enumerate(states.T):\n",
    "        plt.plot(ts, ys, pen=colors[i], name=labels[i])\n",
    "    return plt"
   ]
  },
  {
   "cell_type": "markdown",
   "metadata": {},
   "source": [
    "# Solving using Master Equation"
   ]
  },
  {
   "cell_type": "code",
   "execution_count": null,
   "metadata": {},
   "outputs": [],
   "source": [
    "%%time\n",
    "#For time independent hamiltonian\n",
    "plus = (1/np.sqrt(2))*(qutip.basis(3,0) + qutip.basis(3,1))\n",
    "\n",
    "# This is super quick!\n",
    "ts = np.linspace(0,10e-6,1000)\n",
    "H0 = [H[0]]\n",
    "output = qutip.sesolve(H0, psi0, ts)\n"
   ]
  },
  {
   "cell_type": "code",
   "execution_count": null,
   "metadata": {},
   "outputs": [],
   "source": [
    "%%time\n",
    "# For 10us 600 points an lower is too little, so we do 700 points\n",
    "ts = np.linspace(0,10e-6,700)\n",
    "\n",
    "# This will take about 10sec to simulate\n",
    "output = qutip.sesolve(H, psi0, ts)"
   ]
  },
  {
   "cell_type": "code",
   "execution_count": null,
   "metadata": {},
   "outputs": [],
   "source": [
    "plot(output)"
   ]
  },
  {
   "cell_type": "markdown",
   "metadata": {},
   "source": [
    "# Qutip Simulation using Floquet Formalism\n",
    "\n",
    "Here we'll attempt to follow http://qutip.org/docs/4.1/guide/dynamics/dynamics-floquet.html to apply Floquet formalism to an isolated spin"
   ]
  },
  {
   "cell_type": "code",
   "execution_count": null,
   "metadata": {},
   "outputs": [],
   "source": [
    "%%time\n",
    "Si = Sx,Sy,Sz = qutip.jmat(1)\n",
    "T = (2*np.pi)/w\n",
    "Ts = np.linspace(0, T, 500 + 1)\n",
    "ts = np.linspace(0,1e-6,10)\n",
    "\n",
    "# Find the floquet modes and energies\n",
    "f_modes_0, f_energies = qutip.floquet_modes(H,2*np.pi/w, args={})\n",
    "\n",
    "# Precompute the mode table\n",
    "f_modes_table_t = qutip.floquet_modes_table(f_modes_0, f_energies, ts , H, T, args={})"
   ]
  },
  {
   "cell_type": "code",
   "execution_count": null,
   "metadata": {},
   "outputs": [],
   "source": [
    "%%time\n",
    "# Here we can use as few points as we want\n",
    "# Eg. start and finish times only\n",
    "# ts = [0, 10e-6]\n",
    "# Or we can also do the full time but with less point then before\n",
    "ts = np.linspace(0,10e-6,100)\n",
    "\n",
    "# Solve the floquet-markov master euqation\n",
    "# This will only take ~250ms\n",
    "output = qutip.fsesolve(H, psi0, ts, e_ops=[], T=T, args={})"
   ]
  },
  {
   "cell_type": "code",
   "execution_count": null,
   "metadata": {},
   "outputs": [],
   "source": [
    "plot(output)"
   ]
  },
  {
   "cell_type": "markdown",
   "metadata": {},
   "source": [
    "# Qutip Simulation from Waveform"
   ]
  },
  {
   "cell_type": "code",
   "execution_count": null,
   "metadata": {},
   "outputs": [],
   "source": [
    "%gui qt\n",
    "from wave_library import *\n",
    "from wave import Channel\n",
    "from wave_sim import Wave_Sim, Pulse_Type, Sim_Ch_Types\n",
    "from VV0_params import PL1,PL2\n",
    "import numpy as np\n",
    "import pyqtgraph as pg\n",
    "\n",
    "# First let's give names to our channels\n",
    "chs = {\n",
    "    'sg1_i'  : Channel.ch1_a,\n",
    "    'sg1_g'  : Channel.ch1_m1,\n",
    "    \n",
    "    'sg1_q'  : Channel.ch2_a,\n",
    "}\n",
    "sg1_chs = [chs[x] for x in ['sg1_i','sg1_q', 'sg1_g']]\n",
    "\n",
    "# Creating some basic pulses\n",
    "mw = IQ_MW_Pulse(300e-9, *sg1_chs, freq_shift=0)\n",
    "delay = Zero(t=1e-6, ch=chs['sg1_g'])\n",
    "\n",
    "#Create the sequence\n",
    "wave = delay + mw + delay + mw + delay"
   ]
  },
  {
   "cell_type": "code",
   "execution_count": null,
   "metadata": {},
   "outputs": [],
   "source": [
    "f_plus = PL2['D']\n",
    "Sim_B_chs = {\n",
    "    chs['sg1_i']: Sim_Ch_Types.SG_I(f=f_plus),\n",
    "    chs['sg1_q']: Sim_Ch_Types.SG_Q(f=f_plus),\n",
    "}\n",
    "sim = Wave_Sim(wave, B_chs=Sim_B_chs, B_static=[0,0,0])"
   ]
  },
  {
   "cell_type": "code",
   "execution_count": null,
   "metadata": {},
   "outputs": [],
   "source": [
    "%%time\n",
    "exp_rate = 1e9\n",
    "sim_rate = 10e9\n",
    "Bi_t = sim.generate_B_t(sim_rate=sim_rate*2, experiment_rate=exp_rate)\n",
    "ts = wave.get_ts(rate=sim_rate)\n",
    "\n",
    "for i, f in enumerate(Bi_t):\n",
    "    Bi_t[i] = np.vectorize(f)\n",
    "\n",
    "# ys = np.array(map(Bi_t[0], ts))\n",
    "# ys = np.zeros(len(ts))\n",
    "# for i,t in enumerate(ts):\n",
    "#     ys[i] = Bi_t[0](t)\n",
    "# ys\n",
    "Bi_t[0](ts)"
   ]
  },
  {
   "cell_type": "code",
   "execution_count": null,
   "metadata": {},
   "outputs": [],
   "source": [
    "pg.plot(ts, ys)"
   ]
  },
  {
   "cell_type": "code",
   "execution_count": null,
   "metadata": {},
   "outputs": [],
   "source": [
    "class B_field(object):\n",
    "    pass\n",
    "\n",
    "class SG_IQ(B_field):\n",
    "    def __init__(self, f, I, Q)"
   ]
  },
  {
   "cell_type": "code",
   "execution_count": null,
   "metadata": {},
   "outputs": [],
   "source": []
  },
  {
   "cell_type": "code",
   "execution_count": null,
   "metadata": {},
   "outputs": [],
   "source": []
  }
 ],
 "metadata": {
  "kernelspec": {
   "display_name": "Python 3",
   "language": "python",
   "name": "python3"
  },
  "language_info": {
   "codemirror_mode": {
    "name": "ipython",
    "version": 3
   },
   "file_extension": ".py",
   "mimetype": "text/x-python",
   "name": "python",
   "nbconvert_exporter": "python",
   "pygments_lexer": "ipython3",
   "version": "3.7.3"
  }
 },
 "nbformat": 4,
 "nbformat_minor": 4
}
