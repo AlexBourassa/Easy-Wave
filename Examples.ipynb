{
 "cells": [
  {
   "cell_type": "code",
   "execution_count": null,
   "metadata": {},
   "outputs": [],
   "source": [
    "# This is only to fix autocomplete in my version of Jupyter notebook.  Disregard if you don't have this problem\n",
    "%config Completer.use_jedi = False\n",
    "\n",
    "# This is to allow the use pyqtgraph for plots\n",
    "%gui qt"
   ]
  },
  {
   "cell_type": "markdown",
   "metadata": {},
   "source": [
    "# Generating a waveform"
   ]
  },
  {
   "cell_type": "code",
   "execution_count": null,
   "metadata": {},
   "outputs": [],
   "source": [
    "from wave import AWG_Writer, Channel\n",
    "from wave_library import *\n",
    "\n",
    "# First let's give names to our channels\n",
    "chs = {\n",
    "    'sg1_i' : Channel.ch1_a,\n",
    "    'sg1_g' : Channel.ch1_m1,\n",
    "    'offres': Channel.ch1_m2,\n",
    "    \n",
    "    'sg1_q'  : Channel.ch2_a,\n",
    "    'lockin' : Channel.ch2_m1,\n",
    "    'readout': Channel.ch2_m2,\n",
    "    \n",
    "    'pico_trig': Channel.ch3_a,\n",
    "    'red'      : Channel.ch3_m1,\n",
    "    'rocket'   : Channel.ch3_m2,\n",
    "    \n",
    "    'res_analog': Channel.ch4_a,\n",
    "    'solar'     : Channel.ch4_m1,\n",
    "    'hyper'     : Channel.ch4_m2,\n",
    "}\n",
    "sg1_chs = [chs[x] for x in ['sg1_i','sg1_q', 'sg1_g']]"
   ]
  },
  {
   "cell_type": "code",
   "execution_count": null,
   "metadata": {},
   "outputs": [],
   "source": [
    "# Creating some basic pulses\n",
    "mw = IQ_MW_Pulse(300e-9, *sg1_chs, freq_shift=100e6)\n",
    "init = Rect(t=2e-6, ch=chs['offres'])\n",
    "readout = Rect(t=3e-6, ch=chs['hyper'])\n",
    "delay = Zero(t=1e-6, ch=chs['offres'])\n",
    "\n",
    "#Create the sequence\n",
    "line = init + delay + mw + delay + readout + delay\n",
    "\n",
    "# Use AWG_Writer to write a file and send it via ftp\n",
    "# writer = AWG_Writer()\n",
    "# writer.add_line(line, 'test')\n",
    "# writer.generate_and_upload('192.168.1.101', 'temp/easy_wave_test.awg')"
   ]
  },
  {
   "cell_type": "code",
   "execution_count": null,
   "metadata": {},
   "outputs": [],
   "source": [
    "# Some possible manipulation of the waveform\n",
    "\n",
    "# Describe the waveform in text\n",
    "print(str(line))\n",
    "\n",
    "# Generate the numpy array\n",
    "ch = chs['sg1_i']\n",
    "ts, ys = line.generate(1e9, ch)\n",
    "\n",
    "# Some simple plotting\n",
    "import pyqtgraph as pg\n",
    "cs = lambda ch: ['y','b','p','g'][ch.value[0]-1]\n",
    "pg.plot(ts, ys, pen=cs(ch))"
   ]
  },
  {
   "cell_type": "code",
   "execution_count": null,
   "metadata": {},
   "outputs": [],
   "source": []
  },
  {
   "cell_type": "code",
   "execution_count": null,
   "metadata": {},
   "outputs": [],
   "source": [
    "\n",
    "        \n"
   ]
  },
  {
   "cell_type": "code",
   "execution_count": null,
   "metadata": {},
   "outputs": [],
   "source": []
  }
 ],
 "metadata": {
  "kernelspec": {
   "display_name": "Python 3",
   "language": "python",
   "name": "python3"
  },
  "language_info": {
   "codemirror_mode": {
    "name": "ipython",
    "version": 3
   },
   "file_extension": ".py",
   "mimetype": "text/x-python",
   "name": "python",
   "nbconvert_exporter": "python",
   "pygments_lexer": "ipython3",
   "version": "3.7.3"
  }
 },
 "nbformat": 4,
 "nbformat_minor": 4
}
